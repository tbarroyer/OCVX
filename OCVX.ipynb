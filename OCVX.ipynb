{
 "cells": [
  {
   "cell_type": "markdown",
   "metadata": {},
   "source": [
    "# OCVX"
   ]
  },
  {
   "cell_type": "code",
   "execution_count": 281,
   "metadata": {
    "collapsed": true
   },
   "outputs": [],
   "source": [
    "import numpy as np\n",
    "from scipy.optimize import minimize"
   ]
  },
  {
   "cell_type": "markdown",
   "metadata": {},
   "source": [
    "## 1. Descente de gradient sans contrainte"
   ]
  },
  {
   "cell_type": "code",
   "execution_count": 335,
   "metadata": {
    "collapsed": true
   },
   "outputs": [],
   "source": [
    "# hessian for ax^2 + bx^2\n",
    "def hessian(x):\n",
    "    return np.array([[2 * x[0], 0],\n",
    "                     [0 , 2 * x[1]]])"
   ]
  },
  {
   "cell_type": "code",
   "execution_count": 336,
   "metadata": {
    "collapsed": true
   },
   "outputs": [],
   "source": [
    "def objective():\n",
    "    A = np.abs(np.random.randn(2))\n",
    "    assert(np.linalg.cond(hessian(A)) >= 1)\n",
    "    return (A, np.linalg.cond(hessian(A)))"
   ]
  },
  {
   "cell_type": "code",
   "execution_count": 337,
   "metadata": {
    "collapsed": false
   },
   "outputs": [],
   "source": [
    "objectives = [(np.array([i, 1.0]), np.linalg.cond(hessian([i, 1.0]))) for i in range(1, 10)]"
   ]
  },
  {
   "cell_type": "code",
   "execution_count": 364,
   "metadata": {
    "collapsed": true
   },
   "outputs": [],
   "source": [
    "def gradient_descentL2(A, lr = 0.1):\n",
    "    x = np.array([1.0, 1.0])\n",
    "    it = 0\n",
    "    while x[0] > 0.00001 and x[1] > 0.00001:\n",
    "        dx0 = 2 * A[0] * x[0]\n",
    "        dx1 = 2 * A[1] * x[1]\n",
    "        x[0] -= lr * dx0\n",
    "        x[1] -= lr * dx1\n",
    "        it += 1\n",
    "    return it"
   ]
  },
  {
   "cell_type": "code",
   "execution_count": 369,
   "metadata": {
    "collapsed": false
   },
   "outputs": [],
   "source": [
    "resl2 = np.array([[x[1], gradient_descentL2(x[0], 0.1)] for x in objectives])"
   ]
  },
  {
   "cell_type": "code",
   "execution_count": 370,
   "metadata": {
    "collapsed": false
   },
   "outputs": [
    {
     "data": {
      "image/png": "[encoded data removed]",
      "text/plain": [
       "<matplotlib.figure.Figure at 0x7f8e5cf719b0>"
      ]
     },
     "metadata": {},
     "output_type": "display_data"
    }
   ],
   "source": [
    "import matplotlib.pyplot as plt\n",
    "plt.plot(resl2[:,0], resl2[:,1])\n",
    "plt.show()"
   ]
  },
  {
   "cell_type": "code",
   "execution_count": 371,
   "metadata": {
    "collapsed": false
   },
   "outputs": [],
   "source": [
    "def gradient_descentL1(A, lr = 0.1):\n",
    "    x = np.array([1.0, 1.0])\n",
    "    it = 0\n",
    "    while x[0] > 0.00001 and x[1] > 0.00001:\n",
    "        dx0 = 2 * A[0] * x[0]\n",
    "        dx1 = 2 * A[1] * x[1]\n",
    "        \n",
    "        if x[0] > x[1]:\n",
    "            x[0] -= lr * dx0\n",
    "        else:\n",
    "            x[1] -= lr * dx1\n",
    "        it += 1\n",
    "    return it"
   ]
  },
  {
   "cell_type": "code",
   "execution_count": 378,
   "metadata": {
    "collapsed": true
   },
   "outputs": [],
   "source": [
    "resl1 = np.array([[x[1], gradient_descentL1(x[0], 0.03)] for x in objectives])"
   ]
  },
  {
   "cell_type": "code",
   "execution_count": 379,
   "metadata": {
    "collapsed": false
   },
   "outputs": [
    {
     "data": {
      "image/png": "[encoded data removed]",
      "text/plain": [
       "<matplotlib.figure.Figure at 0x7f8e2c1ccb00>"
      ]
     },
     "metadata": {},
     "output_type": "display_data"
    }
   ],
   "source": [
    "import matplotlib.pyplot as plt\n",
    "plt.plot(resl2[:,0], resl2[:,1])\n",
    "plt.plot(resl1[:,0], resl1[:,1])\n",
    "plt.show()"
   ]
  },
  {
   "cell_type": "code",
   "execution_count": null,
   "metadata": {
    "collapsed": true
   },
   "outputs": [],
   "source": []
  }
 ],
 "metadata": {
  "kernelspec": {
   "display_name": "Python 3",
   "language": "python",
   "name": "python3"
  },
  "language_info": {
   "codemirror_mode": {
    "name": "ipython",
    "version": 3
   },
   "file_extension": ".py",
   "mimetype": "text/x-python",
   "name": "python",
   "nbconvert_exporter": "python",
   "pygments_lexer": "ipython3",
   "version": "3.6.0"
  }
 },
 "nbformat": 4,
 "nbformat_minor": 2
}
